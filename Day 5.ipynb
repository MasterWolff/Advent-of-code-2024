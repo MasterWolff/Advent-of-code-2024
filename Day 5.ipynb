{
 "cells": [
  {
   "cell_type": "code",
   "execution_count": 89,
   "metadata": {},
   "outputs": [
    {
     "name": "stdout",
     "output_type": "stream",
     "text": [
      "Part 1: 5091\n"
     ]
    }
   ],
   "source": [
    "rules = []\n",
    "input = []\n",
    "corr = []\n",
    "\n",
    "with open('input.txt', 'r') as data:\n",
    "    blankline = False\n",
    "    for line in data:\n",
    "        if line.strip() == '':\n",
    "            blankline = True\n",
    "            continue\n",
    "        if not blankline:\n",
    "            rules.append(line.strip())\n",
    "        else:\n",
    "            input.append(line.strip())\n",
    "\n",
    "for x in range(len(rules)):\n",
    "    rules[x] = rules[x].split('|')\n",
    "\n",
    "for x in range(len(input)):\n",
    "    input[x] = input[x].split(',')\n",
    "\n",
    "def part1():\n",
    "    for z in range(len(input)):\n",
    "        meets_requirements = True\n",
    "        for x in range(len(rules)):\n",
    "            if rules[x][0] in input[z] and rules[x][1] in input[z]:\n",
    "                if input[z].index(rules[x][0]) > input[z].index(rules[x][1]):\n",
    "                    meets_requirements = False\n",
    "                    break\n",
    "        if meets_requirements:\n",
    "            corr.append(input[z])\n",
    "\n",
    "    total = 0\n",
    "    for x in range(len(corr)):\n",
    "        z = (len(corr[x]) - 1) // 2\n",
    "        total += int(corr[x][z])\n",
    "    print(f'Part 1: {total}')\n",
    "\n",
    "part1()"
   ]
  }
 ],
 "metadata": {
  "language_info": {
   "name": "python"
  }
 },
 "nbformat": 4,
 "nbformat_minor": 2
}

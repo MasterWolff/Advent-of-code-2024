{
 "cells": [
  {
   "cell_type": "code",
   "execution_count": 2,
   "metadata": {},
   "outputs": [],
   "source": [
    "data = open('input.txt','r')\n",
    "split = data.read().splitlines()\n",
    "\n",
    "import re"
   ]
  },
  {
   "cell_type": "markdown",
   "metadata": {},
   "source": [
    "Part 1"
   ]
  },
  {
   "cell_type": "code",
   "execution_count": 3,
   "metadata": {},
   "outputs": [
    {
     "name": "stdout",
     "output_type": "stream",
     "text": [
      "174336360\n"
     ]
    }
   ],
   "source": [
    "pattern = r'mul\\((\\d+),(\\d+)\\)'\n",
    "multipliers = []\n",
    "for item in split:\n",
    "    match = re.findall(pattern, item)\n",
    "    if match:\n",
    "        multipliers.extend(match)\n",
    "\n",
    "splitted = []\n",
    "for item in multipliers:\n",
    "    for match in item:\n",
    "        splitted.append(int(match.partition(\"'\")[0]))\n",
    "\n",
    "result = [splitted[i] * splitted[i + 1] for i in range(0, len(splitted) - 1, 2)]\n",
    "print(sum(result))"
   ]
  },
  {
   "cell_type": "markdown",
   "metadata": {},
   "source": [
    "Part 2"
   ]
  },
  {
   "cell_type": "code",
   "execution_count": null,
   "metadata": {},
   "outputs": [
    {
     "name": "stdout",
     "output_type": "stream",
     "text": [
      "88802350\n"
     ]
    }
   ],
   "source": [
    "with open('input.txt', 'r') as data:\n",
    "    content = data.read().replace('\\n', ' ')\n",
    "\n",
    "pattern = r'(do\\(\\))|(don\\'t\\(\\))'\n",
    "segments = re.split(pattern, content)\n",
    "\n",
    "dos = []\n",
    "donts = []\n",
    "\n",
    "current_list = dos  \n",
    "\n",
    "for segment in segments:\n",
    "    if segment == \"do()\":\n",
    "        current_list = dos \n",
    "    elif segment == \"don't()\":\n",
    "        current_list = donts  \n",
    "    else:\n",
    "        current_list.append(str(segment))\n",
    "\n",
    "pattern = r'mul\\((\\d+),(\\d+)\\)'\n",
    "\n",
    "multipliers = []\n",
    "for item in dos:\n",
    "    match = re.findall(pattern, item)\n",
    "    if match:\n",
    "        multipliers.extend(match)\n",
    "    else:\n",
    "        continue\n",
    "\n",
    "splitted = []\n",
    "for item in multipliers:\n",
    "    for match in item:\n",
    "        splitted.append(int(match.partition(\"'\")[0]))\n",
    "\n",
    "result = [splitted[i] * splitted[i + 1] for i in range(0, len(splitted) - 1, 2)]\n",
    "print(sum(result))"
   ]
  }
 ],
 "metadata": {
  "kernelspec": {
   "display_name": "inft2060",
   "language": "python",
   "name": "python3"
  },
  "language_info": {
   "codemirror_mode": {
    "name": "ipython",
    "version": 3
   },
   "file_extension": ".py",
   "mimetype": "text/x-python",
   "name": "python",
   "nbconvert_exporter": "python",
   "pygments_lexer": "ipython3",
   "version": "3.10.12"
  }
 },
 "nbformat": 4,
 "nbformat_minor": 2
}

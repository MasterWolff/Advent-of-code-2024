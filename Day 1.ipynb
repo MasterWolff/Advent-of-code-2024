{
 "cells": [
  {
   "cell_type": "code",
   "execution_count": 6,
   "metadata": {},
   "outputs": [],
   "source": [
    "data = open('input.txt','r')\n",
    "split = data.read().splitlines()"
   ]
  },
  {
   "cell_type": "markdown",
   "metadata": {},
   "source": [
    "<h2>Task 1<h2>"
   ]
  },
  {
   "cell_type": "code",
   "execution_count": 16,
   "metadata": {},
   "outputs": [
    {
     "name": "stdout",
     "output_type": "stream",
     "text": [
      "2378066\n"
     ]
    }
   ],
   "source": [
    "left = []\n",
    "right = []\n",
    "for item in split:\n",
    "    left.append(int(item[:5]))\n",
    "    right.append(int(item[-5:]))\n",
    "\n",
    "left.sort()\n",
    "right.sort()\n",
    "\n",
    "difference = 0\n",
    "for x in range(len(left)):\n",
    "    difference += abs(left[x]-right[x])\n",
    "\n",
    "print(difference)"
   ]
  },
  {
   "cell_type": "markdown",
   "metadata": {},
   "source": [
    "<h2>Task 2<h2>"
   ]
  },
  {
   "cell_type": "code",
   "execution_count": 21,
   "metadata": {},
   "outputs": [
    {
     "name": "stdout",
     "output_type": "stream",
     "text": [
      "18934359\n"
     ]
    }
   ],
   "source": [
    "occurrence_count = []\n",
    "for item in left:\n",
    "    occurrence_count = [right.count(item) for item in left] \n",
    "\n",
    "sum = 0\n",
    "for x in range(len(left)):\n",
    "    sum += left[x]*occurrence_count[x]\n",
    "\n",
    "print(sum)"
   ]
  }
 ],
 "metadata": {
  "kernelspec": {
   "display_name": "inft2060",
   "language": "python",
   "name": "python3"
  },
  "language_info": {
   "codemirror_mode": {
    "name": "ipython",
    "version": 3
   },
   "file_extension": ".py",
   "mimetype": "text/x-python",
   "name": "python",
   "nbconvert_exporter": "python",
   "pygments_lexer": "ipython3",
   "version": "3.10.12"
  }
 },
 "nbformat": 4,
 "nbformat_minor": 2
}

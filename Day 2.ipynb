{
 "cells": [
  {
   "cell_type": "code",
   "execution_count": 2,
   "metadata": {},
   "outputs": [],
   "source": [
    "data = open('input.txt','r')\n",
    "split = data.read().splitlines()"
   ]
  },
  {
   "cell_type": "markdown",
   "metadata": {},
   "source": [
    "Part 1 & 2"
   ]
  },
  {
   "cell_type": "code",
   "execution_count": 6,
   "metadata": {},
   "outputs": [
    {
     "name": "stdout",
     "output_type": "stream",
     "text": [
      "Part 1: 572\n"
     ]
    }
   ],
   "source": [
    "for item in split:\n",
    "    item = item.split(\" \")\n",
    "\n",
    "numbers = []\n",
    "\n",
    "for item in split:\n",
    "    item = [int(s) for s in item.split() if s.isdigit()]\n",
    "    numbers.append(item)\n",
    "\n",
    "counter = 0\n",
    "status = True\n",
    "for item in numbers:\n",
    "    if item == sorted(item) or item == sorted(item, reverse=True):\n",
    "        for x in range(len(item)-1):\n",
    "            if abs(item[x]-item[x+1]) > 3:\n",
    "                status = False\n",
    "                break\n",
    "            elif item[x] == item[x+1]:\n",
    "                status = False\n",
    "                break\n",
    "        if status == True:\n",
    "            counter += 1\n",
    "        status = True\n",
    "        \n",
    "print(f\"Part 1: {counter}\")"
   ]
  },
  {
   "cell_type": "code",
   "execution_count": 5,
   "metadata": {},
   "outputs": [
    {
     "name": "stdout",
     "output_type": "stream",
     "text": [
      "Part 2: 612\n"
     ]
    }
   ],
   "source": [
    "def part_two():\n",
    "    lines = split\n",
    "    answer = 0\n",
    "\n",
    "    for l in lines:\n",
    "        row = [int(a) for a in l.split()]\n",
    "\n",
    "        is_increasing = None\n",
    "        for i in range(0, len(row) - 1):\n",
    "            a = row[i]\n",
    "            b = row[i + 1]\n",
    "\n",
    "            if a > b:\n",
    "                if is_increasing is None:\n",
    "                    is_increasing = False\n",
    "                elif is_increasing:\n",
    "                    break\n",
    "            else:\n",
    "                if is_increasing is None:\n",
    "                    is_increasing = True\n",
    "                elif not is_increasing:\n",
    "                    break\n",
    "\n",
    "            diff = abs(a - b)\n",
    "            if diff < 1 or diff > 3:\n",
    "                break\n",
    "        else:\n",
    "            answer += 1\n",
    "            continue\n",
    "\n",
    "        # Brute force, try it with each number removed\n",
    "        for j in range(0, len(row)):\n",
    "            new_row = row[:j] + row[j + 1 :]\n",
    "            is_increasing = None\n",
    "            for i in range(0, len(new_row) - 1):\n",
    "                a = new_row[i]\n",
    "                b = new_row[i + 1]\n",
    "\n",
    "                if a > b:\n",
    "                    if is_increasing is None:\n",
    "                        is_increasing = False\n",
    "                    elif is_increasing:\n",
    "                        break\n",
    "                else:\n",
    "                    if is_increasing is None:\n",
    "                        is_increasing = True\n",
    "                    elif not is_increasing:\n",
    "                        break\n",
    "\n",
    "                diff = abs(a - b)\n",
    "                if diff < 1 or diff > 3:\n",
    "                    break\n",
    "            else:\n",
    "                answer += 1\n",
    "                break\n",
    "\n",
    "    print(f\"Part 2: {answer}\")\n",
    "part_two()"
   ]
  }
 ],
 "metadata": {
  "kernelspec": {
   "display_name": "inft2060",
   "language": "python",
   "name": "python3"
  },
  "language_info": {
   "codemirror_mode": {
    "name": "ipython",
    "version": 3
   },
   "file_extension": ".py",
   "mimetype": "text/x-python",
   "name": "python",
   "nbconvert_exporter": "python",
   "pygments_lexer": "ipython3",
   "version": "3.10.12"
  }
 },
 "nbformat": 4,
 "nbformat_minor": 2
}
